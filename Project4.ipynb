{
 "cells": [
  {
   "cell_type": "markdown",
   "id": "7667a501",
   "metadata": {},
   "source": [
    "## CS 678 Machine Learning\n",
    "\n",
    "## Project 4: Kanyanee and Luke\n",
    "\n",
    "The goal of this project is to write a program to detect the input features using Neural Network Learning. This project consists of 2 parts, A and B. Part A includes a program that uses a Perceptron to learn certain Boolean functions. Part B includes a program that implements a multi-layer neural network and demonstrates iterative learning. This project does not require any additional download for the dataset which was created at the beginning of the program. This project requires the following packages; Panda, Math, Mathplotlib, Numpy, and Random. The code descriptions are provided at the beginning of each code chunk, also as comments along with the code."
   ]
  },
  {
   "cell_type": "markdown",
   "id": "5b783e21",
   "metadata": {},
   "source": [
    "### Part A Learning a Linear Function via Perceptron\n",
    "\n",
    "The separable two-input Boolean logic function of AND will be used to build the Part A program. Then, we will implement the rest of the Boolean functions using the program function that we created. \n",
    "\n",
    "\n",
    "**Inputs and output of Boolean logic functions**\n",
    "\n",
    "|Inputs|AND|OR|NAND|NOR|\n",
    "|-----|---|--|----|---|\n",
    "|0, 0 |0  |0 |1   |1  |\n",
    "|0, 1 |0  |1 |1   |0  |\n",
    "|1, 0 |0  |1 |1   |0  |\n",
    "|1, 1 |1  |1 |0   |0  |"
   ]
  },
  {
   "cell_type": "markdown",
   "id": "7fd81220",
   "metadata": {},
   "source": [
    "Import the necessary packages"
   ]
  },
  {
   "cell_type": "code",
   "execution_count": 1,
   "id": "a62254ea",
   "metadata": {},
   "outputs": [],
   "source": [
    "import pandas as pd\n",
    "import math\n",
    "%matplotlib inline\n",
    "import matplotlib.pyplot as plt\n",
    "import numpy as np\n",
    "import random"
   ]
  },
  {
   "cell_type": "markdown",
   "id": "0418e48c",
   "metadata": {},
   "source": [
    "Create the datasets"
   ]
  },
  {
   "cell_type": "code",
   "execution_count": 2,
   "id": "9679a272",
   "metadata": {},
   "outputs": [
    {
     "data": {
      "text/html": [
       "<div>\n",
       "<style scoped>\n",
       "    .dataframe tbody tr th:only-of-type {\n",
       "        vertical-align: middle;\n",
       "    }\n",
       "\n",
       "    .dataframe tbody tr th {\n",
       "        vertical-align: top;\n",
       "    }\n",
       "\n",
       "    .dataframe thead th {\n",
       "        text-align: right;\n",
       "    }\n",
       "</style>\n",
       "<table border=\"1\" class=\"dataframe\">\n",
       "  <thead>\n",
       "    <tr style=\"text-align: right;\">\n",
       "      <th></th>\n",
       "      <th>0</th>\n",
       "      <th>1</th>\n",
       "      <th>2</th>\n",
       "    </tr>\n",
       "  </thead>\n",
       "  <tbody>\n",
       "    <tr>\n",
       "      <th>0</th>\n",
       "      <td>0</td>\n",
       "      <td>0</td>\n",
       "      <td>0</td>\n",
       "    </tr>\n",
       "    <tr>\n",
       "      <th>1</th>\n",
       "      <td>0</td>\n",
       "      <td>1</td>\n",
       "      <td>0</td>\n",
       "    </tr>\n",
       "    <tr>\n",
       "      <th>2</th>\n",
       "      <td>1</td>\n",
       "      <td>0</td>\n",
       "      <td>0</td>\n",
       "    </tr>\n",
       "    <tr>\n",
       "      <th>3</th>\n",
       "      <td>1</td>\n",
       "      <td>1</td>\n",
       "      <td>1</td>\n",
       "    </tr>\n",
       "  </tbody>\n",
       "</table>\n",
       "</div>"
      ],
      "text/plain": [
       "   0  1  2\n",
       "0  0  0  0\n",
       "1  0  1  0\n",
       "2  1  0  0\n",
       "3  1  1  1"
      ]
     },
     "execution_count": 2,
     "metadata": {},
     "output_type": "execute_result"
    }
   ],
   "source": [
    "# Create the datasets\n",
    "AND_data = pd.DataFrame(np.array([[0,0,0],[0,1,0],[1,0,0],[1,1,1]]))\n",
    "AND_data"
   ]
  },
  {
   "cell_type": "markdown",
   "id": "6b4bb276",
   "metadata": {},
   "source": [
    "Set the number of epochs and the learning rate"
   ]
  },
  {
   "cell_type": "code",
   "execution_count": 3,
   "id": "ebea2bfd",
   "metadata": {},
   "outputs": [],
   "source": [
    "num_epochs = 11\n",
    "learning_rate = 0.75"
   ]
  },
  {
   "cell_type": "markdown",
   "id": "5f5b1ffa",
   "metadata": {},
   "source": [
    "Create a function that randomly creates the initial weights for the input values and the bias based on the size of the inputted dataset."
   ]
  },
  {
   "cell_type": "code",
   "execution_count": 4,
   "id": "3df85ee6",
   "metadata": {},
   "outputs": [],
   "source": [
    "def rand_weights(data, target=0):\n",
    "    # Retrieve the columns that are used for input values\n",
    "    input_data = data.drop(data.columns[target], axis=1)\n",
    "    \n",
    "    # Randomly intialize the weights\n",
    "    weights_list = []\n",
    "    for i in range(0,len(input_data.columns)+1):\n",
    "            weight = random.uniform(-1,1)\n",
    "            weights_list.append(weight)\n",
    "    return(weights_list)"
   ]
  },
  {
   "cell_type": "code",
   "execution_count": 5,
   "id": "acc53625",
   "metadata": {},
   "outputs": [
    {
     "name": "stdout",
     "output_type": "stream",
     "text": [
      "[0.008906320305941406, -0.18662207511040685, -0.025718332494270912]\n"
     ]
    }
   ],
   "source": [
    "# Randomly assign inital weights between -0.1 and 0.1\n",
    "initial_weights = rand_weights(AND_data, 2)\n",
    "print(initial_weights)"
   ]
  },
  {
   "cell_type": "markdown",
   "id": "f83641f5",
   "metadata": {},
   "source": [
    "Function that creates the Perceptron"
   ]
  },
  {
   "cell_type": "code",
   "execution_count": 6,
   "id": "95abfe25",
   "metadata": {},
   "outputs": [],
   "source": [
    "def Perceptron(data, weights, target=0,):\n",
    "    # Retrieve the columns that are used for input values\n",
    "    input_data = data.drop(data.columns[target], axis=1)\n",
    "    \n",
    "    # Instantiate a list that keeps track of the predicted values.\n",
    "    pred_list = []\n",
    "    \n",
    "    # We want to make a copy so doesn't change the initial weights values, but it will return the new adjusted weight values\n",
    "    curr_weights = weights.copy()\n",
    "    \n",
    "    # Go through each value of the row for each column\n",
    "    for index, row in input_data.iterrows():\n",
    "        \n",
    "        # Store and reset the row sum after each instance\n",
    "        row_sum = 0\n",
    "        \n",
    "        # For the first index we do not want to update weights first\n",
    "        if(index == 0):\n",
    "            # Grabs each individual row value\n",
    "            for i in range(0,len(row)):\n",
    "                # Current value of the column with its row value multiplied by its weight from the intial weight list\n",
    "                curr_val = row[i]*curr_weights[i]\n",
    "                # Adds the current row sum value with the current value\n",
    "                row_sum += curr_val            \n",
    "        else:\n",
    "            for j in range(0,len(row)):\n",
    "                # Calculate the new weight for the current row value\n",
    "                curr_weights[j] = curr_weights[j] + (learning_rate*(data[target][index-1] - pred_list[index-1])*data[j][index-1])\n",
    "                # Only want to adjust the bias weight once\n",
    "                if(j==0):\n",
    "                    # Calculate the bias weight\n",
    "                    curr_weights[-1] = curr_weights[-1] + (learning_rate*(data[target][index-1] - pred_list[index-1])*1)\n",
    "                                # Current value of the column with its row value multiplied by its weight from the intial weight list\n",
    "                curr_val = row[j]*curr_weights[j]\n",
    "                # Adds the current row sum value with the current value\n",
    "                row_sum += curr_val\n",
    "                \n",
    "        # Classify the prediction as 0 or 1 depending on the row sum value.\n",
    "        if(row_sum + (1*curr_weights[-1])>0):\n",
    "            pred_list.append(1)\n",
    "        else:\n",
    "            pred_list.append(0)\n",
    "    \n",
    "    # Before we return the lists we need to make one more weight adjustment for the last prediction\n",
    "    for l in range(0,len(input_data.columns)):\n",
    "        # Calculate the new weight for the current row value\n",
    "        curr_weights[l] = curr_weights[l] + (learning_rate*(data[target][index] - pred_list[index])*data[l][index])\n",
    "        if(l==0):\n",
    "            # Calculate the bias weight\n",
    "            curr_weights[-1] = curr_weights[-1] + (learning_rate*(data[target][index] - pred_list[index])*1)  \n",
    "        \n",
    "    return(pred_list, curr_weights)           "
   ]
  },
  {
   "cell_type": "markdown",
   "id": "9eca7484",
   "metadata": {},
   "source": [
    "Function that prints the output that we want."
   ]
  },
  {
   "cell_type": "code",
   "execution_count": 7,
   "id": "105cc434",
   "metadata": {},
   "outputs": [],
   "source": [
    "def output(correct, total, epoch, target, weights, predictions):\n",
    "    print('The number of epochs: ', epoch)\n",
    "    print('Weights: ', weights)\n",
    "    print('Predictions: ', predictions)\n",
    "    print('Target: ', target)\n",
    "    print('The perceptron guessed ', correct, ' correct out of ', total, ' total instances')\n",
    "    print('\\n')"
   ]
  },
  {
   "cell_type": "markdown",
   "id": "f64e9781",
   "metadata": {},
   "source": [
    "Final Function that uses the previous functions together to create the final perceptron."
   ]
  },
  {
   "cell_type": "code",
   "execution_count": 8,
   "id": "aee85398",
   "metadata": {},
   "outputs": [],
   "source": [
    "def classification(data, target=0):\n",
    "    \n",
    "    # Retrieve the columns that are used for input values\n",
    "    input_data = data.drop(data.columns[target], axis=1)\n",
    "    \n",
    "    # Has the number of times the perceptron was correct out of the total\n",
    "    correct = 0\n",
    "    total = 0    \n",
    "    \n",
    "    # Initally run the first instance of the perceptron with the intial weights and assign the lists appropriately\n",
    "    predictions, new_weights = Perceptron(data, initial_weights, target)\n",
    "    \n",
    "    # Go through the number of epochs\n",
    "    for i in range(1,num_epochs):\n",
    "        \n",
    "        # Run the first epoch with the initial weights\n",
    "        if(i==1):\n",
    "            \n",
    "            for j in range(0,len(predictions)):\n",
    "                if(predictions[j]==data[target][j]):\n",
    "                    correct += 1\n",
    "                    total += 1\n",
    "                else:\n",
    "                    total += 1\n",
    "                \n",
    "            if(correct == total):\n",
    "                output(correct, total, i, data[target].tolist(), initial_weights, predictions)\n",
    "                break\n",
    "            else:\n",
    "                output(correct, total, i, data[target].tolist(), initial_weights, predictions)\n",
    "                \n",
    "        # Run the perceptron function with the new adjusted weights       \n",
    "        else:\n",
    "            correct = 0\n",
    "            total = 0\n",
    "            \n",
    "            # Retrieve the predictions of the Perceptron\n",
    "            predictions, new_weights = Perceptron(data, new_weights, target)\n",
    "            \n",
    "            # Calculate the amount of correct predictions\n",
    "            for j in range(0,len(predictions)):\n",
    "                if(predictions[j]==data[target][j]):\n",
    "                    correct += 1\n",
    "                    total += 1\n",
    "                else:\n",
    "                    total += 1\n",
    "                    \n",
    "            if(correct == total):\n",
    "                output(correct, total, i, data[target].tolist(), new_weights, predictions)\n",
    "                break\n",
    "            else:\n",
    "                output(correct, total, i, data[target].tolist(), new_weights, predictions)"
   ]
  },
  {
   "cell_type": "code",
   "execution_count": 9,
   "id": "b69a1206",
   "metadata": {},
   "outputs": [
    {
     "name": "stdout",
     "output_type": "stream",
     "text": [
      "The number of epochs:  1\n",
      "Weights:  [0.008906320305941406, -0.18662207511040685, -0.025718332494270912]\n",
      "Predictions:  [0, 0, 0, 0]\n",
      "Target:  [0, 0, 0, 1]\n",
      "The perceptron guessed  3  correct out of  4  total instances\n",
      "\n",
      "\n",
      "The number of epochs:  2\n",
      "Weights:  [1.5089063203059414, 0.5633779248895932, -0.025718332494270912]\n",
      "Predictions:  [1, 1, 0, 0]\n",
      "Target:  [0, 0, 0, 1]\n",
      "The perceptron guessed  1  correct out of  4  total instances\n",
      "\n",
      "\n",
      "The number of epochs:  3\n",
      "Weights:  [1.5089063203059414, 0.5633779248895932, -0.7757183324942709]\n",
      "Predictions:  [0, 1, 1, 0]\n",
      "Target:  [0, 0, 0, 1]\n",
      "The perceptron guessed  1  correct out of  4  total instances\n",
      "\n",
      "\n",
      "The number of epochs:  4\n",
      "Weights:  [1.5089063203059414, 1.3133779248895932, -0.7757183324942709]\n",
      "Predictions:  [0, 0, 1, 0]\n",
      "Target:  [0, 0, 0, 1]\n",
      "The perceptron guessed  2  correct out of  4  total instances\n",
      "\n",
      "\n",
      "The number of epochs:  5\n",
      "Weights:  [1.5089063203059414, 0.5633779248895932, -1.525718332494271]\n",
      "Predictions:  [0, 1, 0, 1]\n",
      "Target:  [0, 0, 0, 1]\n",
      "The perceptron guessed  3  correct out of  4  total instances\n",
      "\n",
      "\n",
      "The number of epochs:  6\n",
      "Weights:  [1.5089063203059414, 0.5633779248895932, -1.525718332494271]\n",
      "Predictions:  [0, 0, 0, 1]\n",
      "Target:  [0, 0, 0, 1]\n",
      "The perceptron guessed  4  correct out of  4  total instances\n",
      "\n",
      "\n"
     ]
    }
   ],
   "source": [
    "# Run the classification function that has the perceptron and output functions\n",
    "classification(AND_data, 2)"
   ]
  },
  {
   "cell_type": "markdown",
   "id": "b0d6e942",
   "metadata": {},
   "source": [
    "### Implementation\n",
    "\n",
    "The code above is capable of learning any separable two-input Boolean function such as AND, OR, NAND, and NOR. To use the program, the data input has to be stated and use the classification function to create the perceptron."
   ]
  },
  {
   "cell_type": "markdown",
   "id": "526aa6e9",
   "metadata": {},
   "source": [
    "#### OR Function"
   ]
  },
  {
   "cell_type": "code",
   "execution_count": 10,
   "id": "2dc8deb4",
   "metadata": {},
   "outputs": [
    {
     "name": "stdout",
     "output_type": "stream",
     "text": [
      "The number of epochs:  1\n",
      "Weights:  [0.008906320305941406, -0.18662207511040685, -0.025718332494270912]\n",
      "Predictions:  [0, 0, 1, 1]\n",
      "Target:  [0, 1, 1, 1]\n",
      "The perceptron guessed  3  correct out of  4  total instances\n",
      "\n",
      "\n",
      "The number of epochs:  2\n",
      "Weights:  [0.7589063203059414, 0.5633779248895932, 0.7242816675057291]\n",
      "Predictions:  [1, 1, 0, 1]\n",
      "Target:  [0, 1, 1, 1]\n",
      "The perceptron guessed  2  correct out of  4  total instances\n",
      "\n",
      "\n",
      "The number of epochs:  3\n",
      "Weights:  [0.7589063203059414, 0.5633779248895932, -0.025718332494270912]\n",
      "Predictions:  [1, 1, 1, 1]\n",
      "Target:  [0, 1, 1, 1]\n",
      "The perceptron guessed  3  correct out of  4  total instances\n",
      "\n",
      "\n",
      "The number of epochs:  4\n",
      "Weights:  [0.7589063203059414, 0.5633779248895932, -0.025718332494270912]\n",
      "Predictions:  [0, 1, 1, 1]\n",
      "Target:  [0, 1, 1, 1]\n",
      "The perceptron guessed  4  correct out of  4  total instances\n",
      "\n",
      "\n"
     ]
    }
   ],
   "source": [
    "OR_data = pd.DataFrame(np.array([[0,0,0],[0,1,1],[1,0,1],[1,1,1]]))\n",
    "classification(OR_data, 2)"
   ]
  },
  {
   "cell_type": "markdown",
   "id": "8ffe2e77",
   "metadata": {},
   "source": [
    "#### NOT-AND (NAND) Fuction"
   ]
  },
  {
   "cell_type": "code",
   "execution_count": 11,
   "id": "58608fcb",
   "metadata": {},
   "outputs": [
    {
     "name": "stdout",
     "output_type": "stream",
     "text": [
      "The number of epochs:  1\n",
      "Weights:  [0.008906320305941406, -0.18662207511040685, -0.025718332494270912]\n",
      "Predictions:  [0, 1, 1, 1]\n",
      "Target:  [1, 1, 1, 0]\n",
      "The perceptron guessed  2  correct out of  4  total instances\n",
      "\n",
      "\n",
      "The number of epochs:  2\n",
      "Weights:  [-1.4910936796940586, -0.9366220751104068, 0.7242816675057291]\n",
      "Predictions:  [0, 0, 1, 1]\n",
      "Target:  [1, 1, 1, 0]\n",
      "The perceptron guessed  1  correct out of  4  total instances\n",
      "\n",
      "\n",
      "The number of epochs:  3\n",
      "Weights:  [-1.4910936796940586, -0.9366220751104068, 1.4742816675057293]\n",
      "Predictions:  [1, 0, 0, 1]\n",
      "Target:  [1, 1, 1, 0]\n",
      "The perceptron guessed  1  correct out of  4  total instances\n",
      "\n",
      "\n",
      "The number of epochs:  4\n",
      "Weights:  [-1.4910936796940586, -1.6866220751104068, 1.4742816675057293]\n",
      "Predictions:  [1, 1, 0, 1]\n",
      "Target:  [1, 1, 1, 0]\n",
      "The perceptron guessed  2  correct out of  4  total instances\n",
      "\n",
      "\n",
      "The number of epochs:  5\n",
      "Weights:  [-1.4910936796940586, -0.9366220751104068, 2.2242816675057293]\n",
      "Predictions:  [1, 0, 1, 0]\n",
      "Target:  [1, 1, 1, 0]\n",
      "The perceptron guessed  3  correct out of  4  total instances\n",
      "\n",
      "\n",
      "The number of epochs:  6\n",
      "Weights:  [-1.4910936796940586, -0.9366220751104068, 2.2242816675057293]\n",
      "Predictions:  [1, 1, 1, 0]\n",
      "Target:  [1, 1, 1, 0]\n",
      "The perceptron guessed  4  correct out of  4  total instances\n",
      "\n",
      "\n"
     ]
    }
   ],
   "source": [
    "NAND_data = pd.DataFrame(np.array([[0,0,1],[0,1,1],[1,0,1],[1,1,0]]))\n",
    "classification(NAND_data, 2)"
   ]
  },
  {
   "cell_type": "markdown",
   "id": "506bc30c",
   "metadata": {},
   "source": [
    "#### NOR Fuction"
   ]
  },
  {
   "cell_type": "code",
   "execution_count": 12,
   "id": "c0e608c1",
   "metadata": {},
   "outputs": [
    {
     "name": "stdout",
     "output_type": "stream",
     "text": [
      "The number of epochs:  1\n",
      "Weights:  [0.008906320305941406, -0.18662207511040685, -0.025718332494270912]\n",
      "Predictions:  [0, 1, 0, 0]\n",
      "Target:  [1, 0, 0, 0]\n",
      "The perceptron guessed  2  correct out of  4  total instances\n",
      "\n",
      "\n",
      "The number of epochs:  2\n",
      "Weights:  [-0.7410936796940586, -0.9366220751104068, -0.025718332494270912]\n",
      "Predictions:  [0, 0, 1, 0]\n",
      "Target:  [1, 0, 0, 0]\n",
      "The perceptron guessed  2  correct out of  4  total instances\n",
      "\n",
      "\n",
      "The number of epochs:  3\n",
      "Weights:  [-0.7410936796940586, -0.9366220751104068, 0.7242816675057291]\n",
      "Predictions:  [0, 0, 0, 0]\n",
      "Target:  [1, 0, 0, 0]\n",
      "The perceptron guessed  3  correct out of  4  total instances\n",
      "\n",
      "\n",
      "The number of epochs:  4\n",
      "Weights:  [-0.7410936796940586, -0.9366220751104068, 0.7242816675057291]\n",
      "Predictions:  [1, 0, 0, 0]\n",
      "Target:  [1, 0, 0, 0]\n",
      "The perceptron guessed  4  correct out of  4  total instances\n",
      "\n",
      "\n"
     ]
    }
   ],
   "source": [
    "NOR_data = pd.DataFrame(np.array([[0,0,1],[0,1,0],[1,0,0],[1,1,0]]))\n",
    "classification(NOR_data, 2)"
   ]
  },
  {
   "cell_type": "markdown",
   "id": "c2d07677",
   "metadata": {},
   "source": [
    "----"
   ]
  },
  {
   "attachments": {
    "Tutorial_Backpropagation.png": {
     "image/png": "[encoded data removed]"
    }
   },
   "cell_type": "markdown",
   "id": "5475eff4",
   "metadata": {},
   "source": [
    "### Part B Backpropagation for Neural Network Learning\n",
    "\n",
    "The data used in part B mimics the neural network in the backpropagation's class totorial as shown in the picture below. The multi-layer perceptron learning consists of 2 input units, 2 hidden layer perceptrons, and 1 output unit. The value of input $I_1$ is 0, the value of input $I_2$ is 1, and all bias values are 1. The target value is 1 and the learning factor is 0.5. The Part B program will process through 3 steps including feeding forward the inputs, backpropagating the errors, and updating weights.\n",
    "\n",
    "![Tutorial_Backpropagation.png](attachment:Tutorial_Backpropagation.png)"
   ]
  },
  {
   "cell_type": "markdown",
   "id": "1f266ede",
   "metadata": {},
   "source": [
    "Create the array that has the inputs and target."
   ]
  },
  {
   "cell_type": "code",
   "execution_count": 13,
   "id": "96401fa9",
   "metadata": {},
   "outputs": [],
   "source": [
    "data = [0,1,1]"
   ]
  },
  {
   "cell_type": "markdown",
   "id": "27ed0cb0",
   "metadata": {},
   "source": [
    "Set the learning factor and initial weights."
   ]
  },
  {
   "cell_type": "code",
   "execution_count": 14,
   "id": "936789e3",
   "metadata": {},
   "outputs": [
    {
     "name": "stdout",
     "output_type": "stream",
     "text": [
      "{'I1': [1, -1], 'I2': [0.5, 2], 'H1': 1.5, 'H2': -1, 'B1': [1, 1], 'B2': 1}\n"
     ]
    }
   ],
   "source": [
    "learning_factor = 0.5\n",
    "initial_weights = {('I1'):[1,-1], \n",
    "                   ('I2'):[0.5,2],\n",
    "                   ('H1'):1.5,\n",
    "                   ('H2'):-1,\n",
    "                   ('B1'):[1,1],\n",
    "                   ('B2'):1}\n",
    "print(initial_weights)"
   ]
  },
  {
   "cell_type": "markdown",
   "id": "cbe03014",
   "metadata": {},
   "source": [
    "Function that feeds the inputs forward to calculate the values for the hidden layers, the predicted output and the total error."
   ]
  },
  {
   "cell_type": "code",
   "execution_count": 15,
   "id": "ffd85507",
   "metadata": {},
   "outputs": [],
   "source": [
    "def calc_errors(data, weights, target=0):\n",
    "    # Make a copy of the dataset so the pop does not throw an error if we run the function multiple times\n",
    "    data = data.copy()\n",
    "    \n",
    "    # Remove the target value from the data so we have the target and inputs separated\n",
    "    target_val = data.pop(target)\n",
    "\n",
    "    # Feed the input data into the hidden layers\n",
    "    h1 = (weights['I1'][0] * data[0]) + (weights['I2'][0] * data[1]) + (weights['B1'][0]*1)\n",
    "    h1 = 1/(1+math.exp(-h1))\n",
    "    \n",
    "    h2 = (weights['I1'][1] * data[0]) + (weights['I2'][1] * data[1]) + (weights['B1'][1]*1)\n",
    "    h2 = 1/(1+math.exp(-h2))\n",
    "    \n",
    "    # Calculate the predicted output\n",
    "    pred = (weights['H1'] * h1) + (weights['H2'] * h2) + (weights['B2']*1)\n",
    "    pred = 1/(1+math.exp(-pred))\n",
    "    \n",
    "    # Calculate the total network error\n",
    "    total_error = learning_factor*(1-pred)**2\n",
    "    #print('The total network error: ', total_error)\n",
    "    \n",
    "    # Calculate the error for Y\n",
    "    y_error = pred*(1-pred)*(target_val-pred)\n",
    "    \n",
    "    # Calculate the error for each hidden layer\n",
    "    h1_error = h1*(1-h1)*(weights['H1']*y_error)\n",
    "    h2_error = h2*(1-h2)*(weights['H2']*y_error)\n",
    "    \n",
    "    # Show the feed forward results\n",
    "    print('\\033[1m'+'\\nFeed the input forward\\n'+'\\033[0m')\n",
    "    print('  H1 = ', round(h1,3))\n",
    "    print('  H2 = ', round(h2,3))\n",
    "    print('  y  = ', round(pred,3))\n",
    "    print('  The total network error = ', round(total_error,3))\n",
    "    \n",
    "    # Show the backpropagation results\n",
    "    print('\\033[1m'+'\\nBackpropagate the errors\\n'+'\\033[0m')\n",
    "    print('  The error for the output unit y  = ', round(y_error,3))\n",
    "    print('  The error fot the hidden unit H1 = ', round(h1_error,3))\n",
    "    print('  The error fot the hidden unit H2 = ', round(h2_error,3))\n",
    "    \n",
    "    # Return the output and errors of the hidden layers as well as the error for y\n",
    "    return(h1, h2, h1_error, h2_error, y_error)"
   ]
  },
  {
   "cell_type": "code",
   "execution_count": 16,
   "id": "e7c0f642",
   "metadata": {},
   "outputs": [
    {
     "name": "stdout",
     "output_type": "stream",
     "text": [
      "\u001b[1m\n",
      "Feed the input forward\n",
      "\u001b[0m\n",
      "  H1 =  0.818\n",
      "  H2 =  0.953\n",
      "  y  =  0.781\n",
      "  The total network error =  0.024\n",
      "\u001b[1m\n",
      "Backpropagate the errors\n",
      "\u001b[0m\n",
      "  The error for the output unit y  =  0.037\n",
      "  The error fot the hidden unit H1 =  0.008\n",
      "  The error fot the hidden unit H2 =  -0.002\n"
     ]
    },
    {
     "data": {
      "text/plain": [
       "(0.8175744761936437,\n",
       " 0.9525741268224334,\n",
       " 0.008354310462937586,\n",
       " -0.0016870212055845604,\n",
       " 0.037342760966238966)"
      ]
     },
     "execution_count": 16,
     "metadata": {},
     "output_type": "execute_result"
    }
   ],
   "source": [
    "calc_errors(data, initial_weights, 2)"
   ]
  },
  {
   "cell_type": "markdown",
   "id": "2bb8f441",
   "metadata": {},
   "source": [
    "Function that updates the weights for the network."
   ]
  },
  {
   "cell_type": "code",
   "execution_count": 17,
   "id": "84747da4",
   "metadata": {},
   "outputs": [],
   "source": [
    "def learn(data, weights):    \n",
    "    # Make a copy of the dataset so the pop does not throw an error if we run the function multiple times\n",
    "    data = data.copy()\n",
    "    \n",
    "    # Run the calc_errors function to get the necessary values\n",
    "    h1_out, h2_out, h1_error, h2_error, y_error = calc_errors(data, weights, 2)\n",
    "\n",
    "    # Update the weights for the inputs and bias for the first hidden layer\n",
    "    weights['I1'][0] = weights['I1'][0] + learning_factor*(h1_error)*(weights['I1'][0]*data[0])\n",
    "    weights['I2'][0] = weights['I2'][0] + learning_factor*(h1_error)*(weights['I2'][0]*data[1])\n",
    "    weights['B1'][0] = weights['B1'][0] + learning_factor*(h1_error)*(weights['B1'][0]*1)\n",
    "    \n",
    "    # Update the weights for the inputs and bias for the second hidden layer\n",
    "    weights['I1'][1] = weights['I1'][1] + learning_factor*(h2_error)*(weights['I1'][1]*data[0])\n",
    "    weights['I2'][1] = weights['I2'][1] + learning_factor*(h2_error)*(weights['I2'][1]*data[1])\n",
    "    weights['B1'][1] = weights['B1'][1] + learning_factor*(h2_error)*(weights['B1'][1]*1)\n",
    "    \n",
    "    # Update the weights for the hidden layers and the second bias\n",
    "    weights['H1'] = weights['H1'] + learning_factor*y_error*h1_out\n",
    "    weights['H2'] = weights['H2'] + learning_factor*y_error*h2_out\n",
    "    weights['B2'] = weights['B2'] + learning_factor*y_error*1\n",
    "    \n",
    "    # Show the adjusted weights\n",
    "    print('\\033[1m'+'\\nLearn\\n'+'\\033[0m')\n",
    "    print('  W of H1, y = ', round(weights['H1'],3))\n",
    "    print('  W of H2, y = ', round(weights['H2'],3))\n",
    "    print('  W of B1, y = ', round(weights['B2'],3))\n",
    "    \n",
    "    print('\\n  W of I1, H1 = ', round(weights['I1'][0],3))\n",
    "    print('  W of I2, H1 = ', round(weights['I2'][0],3))\n",
    "    print('  W of B0, H1 = ', round(weights['B1'][0],3))\n",
    "    \n",
    "    print('\\n  W of I1, H2 = ', round(weights['I1'][1],3))\n",
    "    print('  W of I2, H2 = ', round(weights['I2'][1],3))\n",
    "    print('  W of B0, H2 = ', round(weights['B1'][1],3))\n",
    "    \n",
    "    # Return the adjusted weights\n",
    "    return(weights)"
   ]
  },
  {
   "cell_type": "markdown",
   "id": "98cec06b",
   "metadata": {},
   "source": [
    "Output from running the function with the input data."
   ]
  },
  {
   "cell_type": "code",
   "execution_count": 18,
   "id": "dd715c7c",
   "metadata": {
    "scrolled": false
   },
   "outputs": [
    {
     "name": "stdout",
     "output_type": "stream",
     "text": [
      "\u001b[1m\n",
      "Feed the input forward\n",
      "\u001b[0m\n",
      "  H1 =  0.818\n",
      "  H2 =  0.953\n",
      "  y  =  0.781\n",
      "  The total network error =  0.024\n",
      "\u001b[1m\n",
      "Backpropagate the errors\n",
      "\u001b[0m\n",
      "  The error for the output unit y  =  0.037\n",
      "  The error fot the hidden unit H1 =  0.008\n",
      "  The error fot the hidden unit H2 =  -0.002\n",
      "\u001b[1m\n",
      "Learn\n",
      "\u001b[0m\n",
      "  W of H1, y =  1.515\n",
      "  W of H2, y =  -0.982\n",
      "  W of B1, y =  1.019\n",
      "\n",
      "  W of I1, H1 =  1.0\n",
      "  W of I2, H1 =  0.502\n",
      "  W of B0, H1 =  1.004\n",
      "\n",
      "  W of I1, H2 =  -1.0\n",
      "  W of I2, H2 =  1.998\n",
      "  W of B0, H2 =  0.999\n"
     ]
    }
   ],
   "source": [
    "weights = learn(data, initial_weights)"
   ]
  },
  {
   "cell_type": "markdown",
   "id": "c2a8e919",
   "metadata": {},
   "source": [
    "Running the function with the input data from Homework 10."
   ]
  },
  {
   "cell_type": "code",
   "execution_count": 19,
   "id": "2da1f9dc",
   "metadata": {},
   "outputs": [
    {
     "name": "stdout",
     "output_type": "stream",
     "text": [
      "\u001b[1m\n",
      "Feed the input forward\n",
      "\u001b[0m\n",
      "  H1 =  0.819\n",
      "  H2 =  0.952\n",
      "  y  =  0.79\n",
      "  The total network error =  0.022\n",
      "\u001b[1m\n",
      "Backpropagate the errors\n",
      "\u001b[0m\n",
      "  The error for the output unit y  =  0.035\n",
      "  The error fot the hidden unit H1 =  0.008\n",
      "  The error fot the hidden unit H2 =  -0.002\n",
      "\u001b[1m\n",
      "Learn\n",
      "\u001b[0m\n",
      "  W of H1, y =  1.53\n",
      "  W of H2, y =  -0.966\n",
      "  W of B1, y =  1.036\n",
      "\n",
      "  W of I1, H1 =  1.0\n",
      "  W of I2, H1 =  0.504\n",
      "  W of B0, H1 =  1.008\n",
      "\n",
      "  W of I1, H2 =  -1.0\n",
      "  W of I2, H2 =  1.997\n",
      "  W of B0, H2 =  0.998\n"
     ]
    },
    {
     "data": {
      "text/plain": [
       "{'I1': [1.0, -1.0],\n",
       " 'I2': [0.5040614075409225, 1.9967616029062558],\n",
       " 'H1': 1.5295529030146615,\n",
       " 'H2': -0.9655882244903209,\n",
       " 'B1': [1.008122815081845, 0.9983808014531279],\n",
       " 'B2': 1.0361271342422749}"
      ]
     },
     "execution_count": 19,
     "metadata": {},
     "output_type": "execute_result"
    }
   ],
   "source": [
    "data = [0,1,1]\n",
    "learn(data, weights)"
   ]
  },
  {
   "cell_type": "markdown",
   "id": "4271f2bc",
   "metadata": {},
   "source": [
    "### Discussion\n",
    "\n",
    "The results of Part A and Part B programs display diagnostic outputs that are identical to the class's tutorial and homework. Further work includes creating some visualizations to enhance the interpretation of the algorithms and the outputs. Pietro (2021) demonstrated a function to plot the structure of an Artificial Neural Network using Matplotlib to improve the story telling."
   ]
  },
  {
   "cell_type": "markdown",
   "id": "154ef8f6",
   "metadata": {},
   "source": [
    "### Reference\n",
    "\n",
    "* Pietro, M. D. (2021, December 17). Deep learning with python: Neural networks (complete tutorial). Medium. Retrieved April 1, 2022, from https://towardsdatascience.com/deep-learning-with-python-neural-networks-complete-tutorial-6b53c0b06af0 "
   ]
  },
  {
   "cell_type": "code",
   "execution_count": null,
   "id": "5532a6c0",
   "metadata": {},
   "outputs": [],
   "source": []
  },
  {
   "cell_type": "code",
   "execution_count": null,
   "id": "64688fd3",
   "metadata": {},
   "outputs": [],
   "source": []
  }
 ],
 "metadata": {
  "kernelspec": {
   "display_name": "Python 3 (ipykernel)",
   "language": "python",
   "name": "python3"
  },
  "language_info": {
   "codemirror_mode": {
    "name": "ipython",
    "version": 3
   },
   "file_extension": ".py",
   "mimetype": "text/x-python",
   "name": "python",
   "nbconvert_exporter": "python",
   "pygments_lexer": "ipython3",
   "version": "3.9.7"
  }
 },
 "nbformat": 4,
 "nbformat_minor": 5
}
